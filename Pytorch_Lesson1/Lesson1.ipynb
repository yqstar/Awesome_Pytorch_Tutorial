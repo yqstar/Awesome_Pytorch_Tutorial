{
 "cells": [
  {
   "cell_type": "code",
   "execution_count": 6,
   "metadata": {},
   "outputs": [],
   "source": [
    "import torch\n",
    "import numpy as np\n",
    "import pandas as pd\n",
    "import pymysql\n",
    "from torch.utils.data import Dataset, DataLoader"
   ]
  },
  {
   "cell_type": "code",
   "execution_count": 7,
   "metadata": {},
   "outputs": [
    {
     "name": "stdout",
     "output_type": "stream",
     "text": [
      "Data Size: 10\n",
      "One Sample: (tensor([0., 1.], dtype=torch.float64), tensor(2., dtype=torch.float64))\n",
      "One Sample's Type: <class 'torch.Tensor'>\n"
     ]
    }
   ],
   "source": [
    "class SampleTxtDataset(Dataset):\n",
    "    def __init__(self):\n",
    "        # 数据文件地址\n",
    "        self.txt_file_path = \"./data/sample_txt_data.txt\"\n",
    "\n",
    "    def __getitem__(self, item):\n",
    "        txt_data = np.loadtxt(self.txt_file_path, delimiter=\",\")\n",
    "        self._x = torch.from_numpy(txt_data[:, :2])\n",
    "        self._y = torch.from_numpy(txt_data[:, 2])\n",
    "        return self._x[item], self._y[item]\n",
    "\n",
    "    def __len__(self):\n",
    "        txt_data = np.loadtxt(self.txt_file_path, delimiter=\",\")\n",
    "        self._len = len(txt_data)\n",
    "        return self._len\n",
    "\n",
    "sample_txt_dataset = SampleTxtDataset()\n",
    "\n",
    "print(\"Data Size:\",len(sample_txt_dataset))\n",
    "\n",
    "print(\"One Sample:\",next(iter(sample_txt_dataset)))\n",
    "\n",
    "print(\"One Sample's Type:\",type(next(iter(sample_txt_dataset))[0]))"
   ]
  },
  {
   "cell_type": "code",
   "execution_count": 8,
   "metadata": {},
   "outputs": [
    {
     "name": "stdout",
     "output_type": "stream",
     "text": [
      "Data Size: 506\n",
      "One Sample: (tensor([6.3200e-03, 1.8000e+01, 2.3100e+00, 0.0000e+00, 5.3800e-01, 6.5750e+00,\n",
      "        6.5200e+01, 4.0900e+00, 1.0000e+00, 2.9600e+02, 1.5300e+01, 3.9690e+02,\n",
      "        4.9800e+00], dtype=torch.float64), tensor(24., dtype=torch.float64))\n",
      "One Sample's Type: <class 'torch.Tensor'>\n"
     ]
    }
   ],
   "source": [
    "class SampleCsvDataset(Dataset):\n",
    "    def __init__(self):\n",
    "        self.csv_file_path = \"./data/sample_boston.csv\"\n",
    "\n",
    "\n",
    "    def __getitem__(self, item):\n",
    "        raw_data = pd.read_csv(self.csv_file_path)\n",
    "        raw_data_shape = raw_data.shape\n",
    "        self._x  = torch.from_numpy(raw_data.iloc[:,:raw_data_shape[1]-1].values)\n",
    "        self._y  = torch.from_numpy(raw_data.iloc[:,raw_data_shape[1]-1].values)\n",
    "        return self._x[item], self._y[item]\n",
    "\n",
    "    def __len__(self):\n",
    "        raw_data = pd.read_csv(self.csv_file_path)\n",
    "        raw_data_shape = raw_data.shape\n",
    "        self._len = raw_data_shape[0]\n",
    "        return self._len\n",
    "\n",
    "sample_csv_dataset = SampleCsvDataset()\n",
    "\n",
    "print(\"Data Size:\",len(sample_csv_dataset))\n",
    "\n",
    "print(\"One Sample:\",next(iter(sample_csv_dataset)))\n",
    "\n",
    "print(\"One Sample's Type:\",type(next(iter(sample_csv_dataset))[0]))"
   ]
  },
  {
   "cell_type": "code",
   "execution_count": null,
   "metadata": {},
   "outputs": [],
   "source": [
    "class SampleMysqlDataset(Dataset):\n",
    "    def __init__(self):\n",
    "        # 初始化MySQL数据库连接配置参数\n",
    "        self.mysql_host = \"localhost\"\n",
    "        self.mysql_port = 3306\n",
    "        self.mysql_user = \"xxxxx\"\n",
    "        self.mysql_password = \"xxxxx\"\n",
    "        self.mysql_db = \"sakila\"\n",
    "        self.mysql_table = \"payment\"\n",
    "        self.mysql_charset = \"utf8\"\n",
    "        self.mysql_sql_data = \"select payment_id, customer_id, staff_id, rental_id, amount from sakila.payment\"\n",
    "        self.mysql_sql_cnt = \"select count(*) from sakila.payment\"\n",
    "\n",
    "    def __getitem__(self, item):\n",
    "        # 创建数据库连接\n",
    "        conn = pymysql.connect(host=self.mysql_host,\n",
    "                        port=self.mysql_port,\n",
    "                        user=self.mysql_user,\n",
    "                        password=self.mysql_password,\n",
    "                        db=self.mysql_db,\n",
    "                        charset=self.mysql_charset)\n",
    "        raw_dataframe = pd.read_sql(self.mysql_sql_data, conn)\n",
    "        raw_dataframe_shape = raw_dataframe.shape\n",
    "        self._x  = torch.from_numpy(raw_dataframe.iloc[:,:raw_dataframe_shape[1]-1].values)\n",
    "        self._y  = torch.from_numpy(raw_dataframe.iloc[:,raw_dataframe_shape[1]-1].values)\n",
    "        return self._x[item], self._y[item]\n",
    "\n",
    "    def __len__(self):\n",
    "        # 创建数据库连接\n",
    "        conn = pymysql.connect(host=self.mysql_host,\n",
    "                        port=self.mysql_port,\n",
    "                        user=self.mysql_user,\n",
    "                        password=self.mysql_password,\n",
    "                        db=self.mysql_db,\n",
    "                        charset=self.mysql_charset)\n",
    "        raw_dataframe = pd.read_sql(self.mysql_sql_data, conn)\n",
    "        raw_dataframe_shape = raw_dataframe.shape\n",
    "        self._len = raw_dataframe_shape[0]\n",
    "        return self._len\n",
    "\n",
    "sample_mysql_dataset = SampleMysqlDataset()\n",
    "\n",
    "print(\"Data Size:\",len(sample_mysql_dataset))\n",
    "\n",
    "print(\"One Sample:\",next(iter(sample_mysql_dataset)))\n",
    "\n",
    "print(\"One Sample's Type:\",type(next(iter(sample_mysql_dataset))[0]))"
   ]
  },
  {
   "cell_type": "code",
   "execution_count": 9,
   "metadata": {},
   "outputs": [
    {
     "name": "stdout",
     "output_type": "stream",
     "text": [
      "Epoch:  0 | Iteration:  0 | batch x:  [[24. 25.]\n",
      " [18. 19.]\n",
      " [ 3.  4.]] | batch y:  [26. 20.  5.]\n",
      "Epoch:  0 | Iteration:  1 | batch x:  [[ 9. 10.]\n",
      " [ 0.  1.]\n",
      " [27. 28.]] | batch y:  [11.  2. 29.]\n",
      "Epoch:  0 | Iteration:  2 | batch x:  [[21. 22.]\n",
      " [ 6.  7.]\n",
      " [15. 16.]] | batch y:  [23.  8. 17.]\n",
      "Epoch:  0 | Iteration:  3 | batch x:  [[12. 13.]] | batch y:  [14.]\n",
      "Epoch:  1 | Iteration:  0 | batch x:  [[27. 28.]\n",
      " [24. 25.]\n",
      " [12. 13.]] | batch y:  [29. 26. 14.]\n",
      "Epoch:  1 | Iteration:  1 | batch x:  [[ 0.  1.]\n",
      " [18. 19.]\n",
      " [ 6.  7.]] | batch y:  [ 2. 20.  8.]\n",
      "Epoch:  1 | Iteration:  2 | batch x:  [[ 3.  4.]\n",
      " [21. 22.]\n",
      " [15. 16.]] | batch y:  [ 5. 23. 17.]\n",
      "Epoch:  1 | Iteration:  3 | batch x:  [[ 9. 10.]] | batch y:  [11.]\n",
      "Epoch:  2 | Iteration:  0 | batch x:  [[27. 28.]\n",
      " [ 0.  1.]\n",
      " [12. 13.]] | batch y:  [29.  2. 14.]\n",
      "Epoch:  2 | Iteration:  1 | batch x:  [[ 6.  7.]\n",
      " [24. 25.]\n",
      " [ 9. 10.]] | batch y:  [ 8. 26. 11.]\n",
      "Epoch:  2 | Iteration:  2 | batch x:  [[15. 16.]\n",
      " [ 3.  4.]\n",
      " [18. 19.]] | batch y:  [17.  5. 20.]\n",
      "Epoch:  2 | Iteration:  3 | batch x:  [[21. 22.]] | batch y:  [23.]\n",
      "Epoch:  3 | Iteration:  0 | batch x:  [[ 0.  1.]\n",
      " [18. 19.]\n",
      " [27. 28.]] | batch y:  [ 2. 20. 29.]\n",
      "Epoch:  3 | Iteration:  1 | batch x:  [[ 3.  4.]\n",
      " [ 9. 10.]\n",
      " [ 6.  7.]] | batch y:  [ 5. 11.  8.]\n",
      "Epoch:  3 | Iteration:  2 | batch x:  [[15. 16.]\n",
      " [12. 13.]\n",
      " [21. 22.]] | batch y:  [17. 14. 23.]\n",
      "Epoch:  3 | Iteration:  3 | batch x:  [[24. 25.]] | batch y:  [26.]\n"
     ]
    }
   ],
   "source": [
    "sample_dataloader = DataLoader(dataset=sample_txt_dataset, batch_size=3, shuffle=True)\n",
    "num_epochs = 4\n",
    "for epoch in range(num_epochs):\n",
    "    for iter, (batch_x, batch_y) in enumerate(sample_dataloader):\n",
    "        print('Epoch: ', epoch, '| Iteration: ', iter, '| batch x: ', batch_x.numpy(), '| batch y: ', batch_y.numpy())"
   ]
  }
 ],
 "metadata": {
  "interpreter": {
   "hash": "bf798919669e83ad246cc9f9bcb3fc7e91b282bdf3b5ddd1cb6d4f825f2f0a45"
  },
  "kernelspec": {
   "display_name": "Python 3.8.3 ('torch17_env')",
   "language": "python",
   "name": "python3"
  },
  "language_info": {
   "codemirror_mode": {
    "name": "ipython",
    "version": 3
   },
   "file_extension": ".py",
   "mimetype": "text/x-python",
   "name": "python",
   "nbconvert_exporter": "python",
   "pygments_lexer": "ipython3",
   "version": "3.8.3"
  },
  "orig_nbformat": 4
 },
 "nbformat": 4,
 "nbformat_minor": 2
}
