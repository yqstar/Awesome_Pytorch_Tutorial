{
 "cells": [
  {
   "cell_type": "code",
   "execution_count": null,
   "metadata": {},
   "outputs": [],
   "source": []
  }
 ],
 "metadata": {
  "interpreter": {
   "hash": "bf798919669e83ad246cc9f9bcb3fc7e91b282bdf3b5ddd1cb6d4f825f2f0a45"
  },
  "kernelspec": {
   "display_name": "Python 3.8.3 ('torch17_env')",
   "language": "python",
   "name": "python3"
  },
  "language_info": {
   "name": "python",
   "version": "3.8.3"
  },
  "orig_nbformat": 4
 },
 "nbformat": 4,
 "nbformat_minor": 2
}
